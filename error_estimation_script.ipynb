{
 "cells": [
  {
   "cell_type": "code",
   "execution_count": 2,
   "metadata": {},
   "outputs": [],
   "source": [
    "import os\n",
    "import csv\n",
    "import numpy as np\n",
    "\n",
    "import time\n",
    "import datetime"
   ]
  },
  {
   "cell_type": "code",
   "execution_count": 3,
   "metadata": {},
   "outputs": [],
   "source": [
    "# Image contact time stamps\n",
    "# all high\n",
    "# trial 1 2022-03-28 15:06:07.110327\n",
    "# trial 2 2022-03-28 15:08:35.646496\n",
    "# all low\n",
    "# trial 1 2022-03-28 15:12:43.418709\n",
    "# trial 2 2022-03-28 15:13:38.331845\n",
    "# one high\n",
    "# trial 1 2022-03-28 14:43:54.752684\n",
    "# trial 2 2022-03-28 14:44:51.475726\n",
    "# one low\n",
    "# trial 1 2022-03-28 14:46:11.149148\n",
    "# data for second trial is invalid\n",
    "\n",
    "\n",
    "gt_data = {\n",
    "    'all_cam_high_speed': {'trial_1': '2022-03-28 15:06:07.110327', 'trial_2': '2022-03-28 15:08:35.646496'},\n",
    "    'all_cam_low_speed': {'trial_1': '2022-03-28 15:12:43.418709', 'trial_2': '2022-03-28 15:13:38.331845'},\n",
    "    'one_cam_high_speed': {'trial_1': '2022-03-28 14:43:54.752684', 'trial_2': '2022-03-28 14:44:51.475726'},\n",
    "    'one_cam_low_speed': {'trial_1': '2022-03-28 14:46:11.149148'},\n",
    "}"
   ]
  },
  {
   "cell_type": "code",
   "execution_count": 4,
   "metadata": {},
   "outputs": [],
   "source": [
    "# helper functions\n",
    "\n",
    "def str_to_array(string: str):\n",
    "    return np.array([float(x) for x in string.replace('[', '').replace(']', '').split(';')])\n",
    "\n",
    "\n",
    "def str_to_timestamp(string: str, format=\"%d-%m-%Y %H:%M:%S %f\"):\n",
    "    string = string.replace(\"'\", \"\")\n",
    "    millisec = string.split(\n",
    "        '.')[-1] if '.' in string else string.split(' ')[-1]\n",
    "    return time.mktime(datetime.datetime.strptime(string, format).timetuple()) + float(\"0.\" + millisec)\n",
    "\n",
    "\n",
    "def load_data(path: str):\n",
    "    with open(path) as f:\n",
    "        reader = csv.reader(f, delimiter='\\t')\n",
    "        data = []\n",
    "        for row in reader:\n",
    "            position = str_to_array(row[1])\n",
    "            time_stamp = str_to_timestamp(row[3])\n",
    "            data.append(\n",
    "                {\n",
    "                    'pos': position,\n",
    "                    'time': time_stamp\n",
    "                }\n",
    "            )\n",
    "    return data\n",
    "\n",
    "\n",
    "def most_frequent(List):\n",
    "    return max(set(List), key=List.count)"
   ]
  },
  {
   "cell_type": "code",
   "execution_count": 97,
   "metadata": {},
   "outputs": [],
   "source": [
    "# 'all_cam_high_speed', 'all_cam_low_speed', 'one_cam_high_speed', 'one_cam_low_speed'\n",
    "current_path = 'one_cam_low_speed'\n",
    "current_trial = 'trial_1'\n",
    "\n",
    "path = os.path.join('timesysnc_trials', current_path,\n",
    "                    current_trial, 'data.csv')\n",
    "\n",
    "data = load_data(path)"
   ]
  },
  {
   "cell_type": "code",
   "execution_count": 29,
   "metadata": {},
   "outputs": [],
   "source": [
    "### Currently not used\n",
    "speed_cut_off_threshold = 2\n",
    "speed_estimation_steps = 500\n",
    "\n",
    "def filter_speeds(speeds: list):\n",
    "    mean = np.mean(speeds, axis=0)\n",
    "    speeds = list(filter(lambda speed: mean >= speed >= mean/3, speeds))\n",
    "    mean = most_frequent([int(x) for x in speeds if x > 0])\n",
    "    low = mean / speed_cut_off_threshold\n",
    "    high = mean * speed_cut_off_threshold\n",
    "    print(\n",
    "        f\"Estimated speed values for mean: {mean}, min: {low}, and high: {high}\")\n",
    "    return list(filter(lambda speed: high >= speed >= low, speeds))\n",
    "\n",
    "def calculate_mean_speed(data : list):\n",
    "    step_size = int(len(data) / speed_estimation_steps)\n",
    "    avg_speeds = []\n",
    "    for i in range(speed_estimation_steps):\n",
    "        x = data[i * step_size]\n",
    "        y = data[(i + 1) * step_size - 1]\n",
    "        speed = abs(np.linalg.norm(x['pos'] - y['pos']) / (x['time'] - y['time']))\n",
    "        avg_speeds.append(speed)\n",
    "\n",
    "    avg_speeds = filter_speeds(avg_speeds)\n",
    "    return np.mean(avg_speeds, axis=0)\n",
    "\n",
    "def estimate_speed(x: dict, y: dict):\n",
    "    return abs((x['pos'][2] - y['pos'][2]) / (x['time'] - y['time']))"
   ]
  },
  {
   "cell_type": "code",
   "execution_count": 94,
   "metadata": {},
   "outputs": [],
   "source": [
    "## function for estimating the time at which vicon no longer publishes gt data\n",
    "initial_height_estimation_timesteps = 500\n",
    "\n",
    "def estimate_impact_timestamp(data: list):\n",
    "    for i, date in enumerate(data):\n",
    "        height = date['pos'][2]\n",
    "        if height < 1:\n",
    "            last_recorded_index = i\n",
    "            break\n",
    "\n",
    "    estimation_steps = min(last_recorded_index - 100, initial_height_estimation_timesteps)\n",
    "\n",
    "    heights = [point['pos'][2] for point in data[:estimation_steps]]\n",
    "    max_value = max(heights)\n",
    "    min_value = min(heights)\n",
    "    max_offset = max_value - min_value\n",
    "    print(f'Max height difference: {max_value}; min height difference: {min_value}')\n",
    "\n",
    "    for date in data:\n",
    "        height = date['pos'][2]\n",
    "        if height > max_value + max_offset or height < min_value - max_offset:\n",
    "            print(f'Observed height: {height}')\n",
    "            return date\n"
   ]
  },
  {
   "cell_type": "code",
   "execution_count": 98,
   "metadata": {},
   "outputs": [
    {
     "name": "stdout",
     "output_type": "stream",
     "text": [
      "Estimated inaccuracy for one_cam_low_speed/trial_1\n",
      "Max height difference: 153.501064565533; min height difference: 152.842852538703\n",
      "Observed height: 152.15418821769\n",
      "Estimated speed values for mean: 45, min: 22.5, and high: 90\n",
      "Estimated vicon observation loss: 1648471570.603\n",
      "Visually estimated camera observation loss: 1648471571.149148\n",
      "Time difference between observations: 0.5461480617523193s\n",
      "Total estimated offset: 25.088883142831186mm\n"
     ]
    }
   ],
   "source": [
    "print(f'Estimated inaccuracy for {current_path}/{current_trial}')\n",
    "visual_contact = gt_data[current_path][current_trial]\n",
    "gt_time_stamp = str_to_timestamp(visual_contact, \"%Y-%m-%d %H:%M:%S.%f\")\n",
    "\n",
    "impact_data = estimate_impact_timestamp(data)\n",
    "\n",
    "mean_speed = calculate_mean_speed(data)\n",
    "\n",
    "time_diff = gt_time_stamp - impact_data['time']\n",
    "offset = time_diff * mean_speed\n",
    "\n",
    "print(f\"Estimated vicon observation loss: {impact_data['time']}\")\n",
    "print(f\"Visually estimated camera observation loss: {gt_time_stamp}\")\n",
    "print(f\"Time difference between observations: {time_diff}s\")\n",
    "print(f\"Total estimated offset: {offset}mm\")"
   ]
  },
  {
   "cell_type": "code",
   "execution_count": 96,
   "metadata": {},
   "outputs": [
    {
     "data": {
      "text/plain": [
       "[<matplotlib.lines.Line2D at 0x7fd881395d00>]"
      ]
     },
     "execution_count": 96,
     "metadata": {},
     "output_type": "execute_result"
    },
    {
     "data": {
      "image/png": "[encoded data removed]",
      "text/plain": [
       "<Figure size 432x288 with 1 Axes>"
      ]
     },
     "metadata": {
      "needs_background": "light"
     },
     "output_type": "display_data"
    }
   ],
   "source": [
    "# plot the height data\n",
    "\n",
    "from matplotlib import pyplot as plt\n",
    "\n",
    "heights = np.array([date['pos'][2] for date in data])\n",
    "mean = np.mean(heights[:initial_height_estimation_timesteps], axis=0)\n",
    "heights -= mean\n",
    "\n",
    "times = [date['time'] for date in data]\n",
    "\n",
    "plt.plot(times, heights)"
   ]
  }
 ],
 "metadata": {
  "interpreter": {
   "hash": "916dbcbb3f70747c44a77c7bcd40155683ae19c65e1c03b4aa3499c5328201f1"
  },
  "kernelspec": {
   "display_name": "Python 3.8.10 64-bit",
   "language": "python",
   "name": "python3"
  },
  "language_info": {
   "codemirror_mode": {
    "name": "ipython",
    "version": 3
   },
   "file_extension": ".py",
   "mimetype": "text/x-python",
   "name": "python",
   "nbconvert_exporter": "python",
   "pygments_lexer": "ipython3",
   "version": "3.8.10"
  },
  "orig_nbformat": 4
 },
 "nbformat": 4,
 "nbformat_minor": 2
}
